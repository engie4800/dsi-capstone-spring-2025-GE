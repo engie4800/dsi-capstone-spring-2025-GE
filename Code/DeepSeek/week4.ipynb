{
  "nbformat": 4,
  "nbformat_minor": 0,
  "metadata": {
    "colab": {
      "provenance": []
    },
    "kernelspec": {
      "name": "python3",
      "display_name": "Python 3"
    },
    "language_info": {
      "name": "python"
    }
  },
  "cells": [
    {
      "cell_type": "code",
      "source": [
        "# prompt: You are asked to calculate the slope of a given time series. The data is: []"
      ],
      "metadata": {
        "id": "fEPvm6xJbIx0"
      },
      "execution_count": null,
      "outputs": []
    },
    {
      "cell_type": "code",
      "execution_count": null,
      "metadata": {
        "colab": {
          "base_uri": "https://localhost:8080/"
        },
        "id": "hBSkiK5GTBaZ",
        "outputId": "3b82d33a-7029-495b-8971-e459eced85ca"
      },
      "outputs": [
        {
          "output_type": "execute_result",
          "data": {
            "text/plain": [
              "-8.076798894831557"
            ]
          },
          "metadata": {},
          "execution_count": 1
        }
      ],
      "source": [
        "# use statistical method to calculate slope\n",
        "import numpy as np\n",
        "\n",
        "y = np.array([\n",
        "    120.2961212, 109.2080162, 98.9537533, 87.3951084, 78.5215728, 71.5487645,\n",
        "    62.1327063, 59.215158, 47.8672713, 52.1641521, 21.27311897, 20.9583709,\n",
        "    4.62114204, 0.50534558, -5.4009138, -5.7863442, -28.43758437, -24.2008175,\n",
        "    -54.34674664, -39.1959767, -55.95967942, -73.8228554, -60.4839082,\n",
        "    -76.2550529, -74.1188103, -105.3065618, -113.2859763, -107.1281457,\n",
        "    -114.2962236, -116.9062917, -133.9619619, -144.1898013, -137.0047106,\n",
        "    -151.1097519, -154.4189764, -185.8445145, -184.4541504, -193.7439903,\n",
        "    -210.52955, -206.1784129, -193.2500736, -215.9068514, -230.2125345,\n",
        "    -228.7670146, -250.2199457, -266.1070973, -262.9228339, -288.4576993,\n",
        "    -269.12947, -283.5241858, -294.5584899, -307.9799177, -312.8651144,\n",
        "    -344.1481041, -321.5574975, -329.4373664, -328.4464111, -350.2971704,\n",
        "    -369.5624025, -387.273018, -382.7558586, -390.9705394, -389.1991072,\n",
        "    -409.0580274, -413.6738399, -398.5579103, -412.2268511, -442.9758933,\n",
        "    -439.7998292, -438.252361, -446.1181744, -454.7550086, -469.7885275,\n",
        "    -481.0593032, -475.5254844, -496.8041008, -500.8903476, -515.2757517,\n",
        "    -507.2368661, -531.9039554, -537.5425866, -549.0310138, -537.730355,\n",
        "    -564.0519484, -563.6181999, -576.6469249, -561.3313691, -583.8259648,\n",
        "    -594.4479037, -615.3990507, -615.299238, -629.5286155, -640.9007857,\n",
        "    -678.2662762, -663.919456, -643.4235936, -679.0742379, -658.7583244,\n",
        "    -676.3862704, -687.8975981\n",
        "])\n",
        "x = np.arange(len(y))\n",
        "\n",
        "n = len(x)\n",
        "sum_x = np.sum(x) # 4950\n",
        "sum_y = np.sum(y) # -29010.23775504\n",
        "sum_xy = np.sum(x * y) # -2109006.0367863197\n",
        "sum_x2 = np.sum(x**2) # 328350\n",
        "\n",
        "b = (n * sum_xy - sum_x * sum_y) / (n * sum_x2 - sum_x**2)\n",
        "b"
      ]
    },
    {
      "cell_type": "code",
      "source": [
        "# DeepSeek was able to correctly compute the slope this time, taking 648 seconds vs. 148 seconds when computing the incorrect slope.\n",
        "# Reason for DeepSeek’s previous mistake: insufficient compute power — sum_xy was estimated, and the result of sum_y was also inaccurate.\n",
        "# Even when the code is correct, the generated output may still be wrong, so the user needs to run the code themselves (though GPT has the same issue)."
      ],
      "metadata": {
        "id": "rgmluY_Qv6K5"
      },
      "execution_count": null,
      "outputs": []
    },
    {
      "cell_type": "code",
      "source": [
        "# set seed\n",
        "\n",
        "import pandas as pd\n",
        "import numpy as np\n",
        "from sklearn.linear_model import LinearRegression\n",
        "\n",
        "np.random.seed(42)\n",
        "\n",
        "file_path = \"/content/PdM_telemetry - machine1 pressure.csv\"\n",
        "dataset = pd.read_csv(file_path)\n",
        "\n",
        "dataset['time_marker'] = pd.to_datetime(dataset['datetime'])\n",
        "dataset = dataset.sort_values('time_marker')\n",
        "\n",
        "time_steps = np.arange(len(dataset))\n",
        "sensor_readings = dataset['pressure'].values\n",
        "\n",
        "growth_rate = 1.5\n",
        "fluctuation_level = 1.8\n",
        "cyclic_variation = 7\n",
        "cycle_duration = 336\n",
        "\n",
        "trend_effect = growth_rate * time_steps\n",
        "random_variation = np.random.normal(0, fluctuation_level, len(dataset))  # Fixed random variation\n",
        "cyclic_effect = cyclic_variation * np.sin(2 * np.pi * time_steps / cycle_duration)\n",
        "\n",
        "dataset['modified_sensor_readings'] = sensor_readings + trend_effect + random_variation + cyclic_effect\n",
        "\n",
        "X = time_steps[:100].reshape(-1, 1)\n",
        "y = dataset['modified_sensor_readings'][:100]\n",
        "\n",
        "regressor = LinearRegression()\n",
        "regressor.fit(X, y)\n",
        "\n",
        "slope = regressor.coef_[0]\n",
        "y_pred = regressor.predict(X)\n",
        "\n",
        "slope"
      ],
      "metadata": {
        "colab": {
          "base_uri": "https://localhost:8080/"
        },
        "id": "0KMscD1T2nm3",
        "outputId": "f4c8a3b4-362a-4f24-d629-ec9ebe46ed26"
      },
      "execution_count": null,
      "outputs": [
        {
          "output_type": "execute_result",
          "data": {
            "text/plain": [
              "1.608626997650629"
            ]
          },
          "metadata": {},
          "execution_count": 7
        }
      ]
    },
    {
      "cell_type": "code",
      "source": [
        "y = np.array([\n",
        "    113.972021, 96.8425417, 79.66548259, 116.8825082, 117.9882828, 103.6591404,\n",
        "    124.3820187, 113.7961487, 122.8226025, 120.4973816, 119.2478919, 113.572426,\n",
        "    106.0056189, 111.2260341, 112.9426683, 109.1883457, 118.4875615, 119.5830766,\n",
        "    124.4114252, 107.273729, 126.8954537, 126.2115186, 132.4562815, 128.2934688,\n",
        "    152.3993581, 144.2275388, 127.1433646, 154.9712733, 135.1302049, 144.263522,\n",
        "    153.6343992, 153.1753224, 153.5606369, 145.390646, 168.5879094, 157.0493412,\n",
        "    185.7548808, 156.2630919, 145.4990369, 178.8320882, 146.7587357, 151.9250376,\n",
        "    177.7076008, 183.0418563, 169.9980566, 163.786648, 169.3729645, 169.7193797,\n",
        "    174.7429577, 180.3129633, 175.7040688, 166.7623875, 180.9558295, 185.098228,\n",
        "    176.6577398, 206.1803802, 178.9754782, 176.8255279, 200.1317998, 201.0369923,\n",
        "    188.551254, 185.213703, 194.5855167, 203.2992118, 211.2455342, 194.2414645,\n",
        "    209.3108035, 226.1038455, 223.9243755, 222.7375063, 218.9648207, 219.8055892,\n",
        "    212.469638, 238.0222394, 215.162087, 233.9814363, 215.6033942, 216.9381807,\n",
        "    224.7386822, 213.5673761, 238.160055, 212.821627, 220.1293233, 212.9667076,\n",
        "    243.2293706, 240.9306931, 240.8027919, 233.8294231, 227.2869887, 230.8675768,\n",
        "    232.1003134, 240.8508533, 238.5507094, 248.8676498, 241.8583785, 247.2165277,\n",
        "    263.1905395, 255.8322099, 261.9058438, 281.2687446\n",
        "])\n",
        "x = np.arange(len(y))\n",
        "\n",
        "n1 = len(x)\n",
        "sum_x1 = np.sum(x) # 4950\n",
        "sum_y1 = np.sum(y) # 17839.01386059\n",
        "sum_xy1 = np.sum(x * y) # 1017070.0306750799\n",
        "sum_x2_1 = np.sum(x**2) # 328350\n",
        "\n",
        "b1 = (n1 * sum_xy1 - sum_x1 * sum_y1) / (n1 * sum_x2_1 - sum_x1**2)\n",
        "b1"
      ],
      "metadata": {
        "colab": {
          "base_uri": "https://localhost:8080/"
        },
        "id": "4fB6ujUM95Z9",
        "outputId": "1bceff0f-310a-474a-e39c-e3ef205de58d"
      },
      "execution_count": null,
      "outputs": [
        {
          "output_type": "execute_result",
          "data": {
            "text/plain": [
              "1.6086269976102605"
            ]
          },
          "metadata": {},
          "execution_count": 15
        }
      ]
    },
    {
      "cell_type": "code",
      "source": [
        "# deepseek's result is 1.61，spending 398s"
      ],
      "metadata": {
        "id": "bfcqjnRj9nET"
      },
      "execution_count": null,
      "outputs": []
    },
    {
      "cell_type": "code",
      "source": [
        "# slope for 101th to 200th datapoints\n",
        "\n",
        "X_subset = time_steps[100:200].reshape(-1, 1)\n",
        "y_subset = dataset['modified_sensor_readings'][100:200]\n",
        "\n",
        "regressor1 = LinearRegression()\n",
        "regressor1.fit(X_subset, y_subset)\n",
        "\n",
        "slope1 = regressor1.coef_[0]\n",
        "y_pred1 = regressor1.predict(X_subset)\n",
        "\n",
        "slope1"
      ],
      "metadata": {
        "colab": {
          "base_uri": "https://localhost:8080/"
        },
        "id": "RjQcOF9mBcYR",
        "outputId": "c7cb2866-7894-4c12-9e8b-e1f24ce5ad72"
      },
      "execution_count": null,
      "outputs": [
        {
          "output_type": "execute_result",
          "data": {
            "text/plain": [
              "1.3889445846806845"
            ]
          },
          "metadata": {},
          "execution_count": 23
        }
      ]
    },
    {
      "cell_type": "code",
      "source": [
        "n_subset = len(X_subset)\n",
        "sum_x_subset = np.sum(X_subset) # 14950\n",
        "sum_y_subset = np.sum(y_subset) # 32722.291251864503\n",
        "sum_xy_subset = np.sum(X_subset.flatten() * y_subset) # 5007716.349672262\n",
        "sum_x2_subset = np.sum(X_subset**2) # 2318350\n",
        "\n",
        "slope_subset = (n_subset * sum_xy_subset - sum_x_subset * sum_y_subset) / (n_subset * sum_x2_subset - sum_x_subset**2)\n",
        "slope_subset"
      ],
      "metadata": {
        "colab": {
          "base_uri": "https://localhost:8080/"
        },
        "id": "4qtGzQEuCMpp",
        "outputId": "6db9fcb6-5b04-4676-9bfc-08c534428309"
      },
      "execution_count": null,
      "outputs": [
        {
          "output_type": "execute_result",
          "data": {
            "text/plain": [
              "1.388944584680691"
            ]
          },
          "metadata": {},
          "execution_count": 26
        }
      ]
    },
    {
      "cell_type": "code",
      "source": [
        "# DeepSeek's result was 1.39, taking 415 seconds.\n",
        "# It’s worth noting that DeepSeek seems to carry over results from the previous prompt, so it’s best to start a new conversation for each individual task."
      ],
      "metadata": {
        "id": "TQezd5stTMJD"
      },
      "execution_count": null,
      "outputs": []
    }
  ]
}