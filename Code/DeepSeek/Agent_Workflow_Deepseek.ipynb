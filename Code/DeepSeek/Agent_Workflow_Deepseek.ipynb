{
  "nbformat": 4,
  "nbformat_minor": 0,
  "metadata": {
    "colab": {
      "provenance": []
    },
    "kernelspec": {
      "name": "python3",
      "display_name": "Python 3"
    },
    "language_info": {
      "name": "python"
    }
  },
  "cells": [
    {
      "cell_type": "code",
      "source": [
        "from openai import OpenAI\n",
        "from langgraph.func import task, entrypoint\n",
        "from typing_extensions import Literal\n",
        "import pandas as pd\n",
        "from langgraph.graph import StateGraph, END, MessagesState\n",
        "from langgraph.types import Command\n",
        "from langchain_core.messages import HumanMessage, AIMessage, SystemMessage\n",
        "from pydantic import BaseModel, Field"
      ],
      "metadata": {
        "id": "9B6CbZLwkEAH"
      },
      "execution_count": 1,
      "outputs": []
    },
    {
      "cell_type": "code",
      "execution_count": 2,
      "metadata": {
        "id": "Jiydpunfiuh2"
      },
      "outputs": [],
      "source": [
        "client = OpenAI(\n",
        "    api_key=\"DeepSeek API Key\",\n",
        "    base_url=\"https://api.deepseek.com\"\n",
        ")\n",
        "\n",
        "def call_deepseek(prompt: str, system_prompt: str = \"You are a helpful assistant\") -> str:\n",
        "    response = client.chat.completions.create(\n",
        "        model=\"deepseek-reasoner\",\n",
        "        messages=[\n",
        "            {\"role\": \"system\", \"content\": system_prompt},\n",
        "            {\"role\": \"user\", \"content\": prompt},\n",
        "        ],\n",
        "        stream=False\n",
        "    )\n",
        "    return response.choices[0].message.content"
      ]
    },
    {
      "cell_type": "code",
      "source": [
        "from google.colab import files\n",
        "\n",
        "uploaded = files.upload()"
      ],
      "metadata": {
        "colab": {
          "base_uri": "https://localhost:8080/",
          "height": 76
        },
        "id": "akxohAdenky1",
        "outputId": "9ab42afa-0dba-42fa-80ad-6f0c90b8a616"
      },
      "execution_count": 3,
      "outputs": [
        {
          "output_type": "display_data",
          "data": {
            "text/plain": [
              "<IPython.core.display.HTML object>"
            ],
            "text/html": [
              "\n",
              "     <input type=\"file\" id=\"files-a290991e-4a0e-473f-8367-f307927df307\" name=\"files[]\" multiple disabled\n",
              "        style=\"border:none\" />\n",
              "     <output id=\"result-a290991e-4a0e-473f-8367-f307927df307\">\n",
              "      Upload widget is only available when the cell has been executed in the\n",
              "      current browser session. Please rerun this cell to enable.\n",
              "      </output>\n",
              "      <script>// Copyright 2017 Google LLC\n",
              "//\n",
              "// Licensed under the Apache License, Version 2.0 (the \"License\");\n",
              "// you may not use this file except in compliance with the License.\n",
              "// You may obtain a copy of the License at\n",
              "//\n",
              "//      http://www.apache.org/licenses/LICENSE-2.0\n",
              "//\n",
              "// Unless required by applicable law or agreed to in writing, software\n",
              "// distributed under the License is distributed on an \"AS IS\" BASIS,\n",
              "// WITHOUT WARRANTIES OR CONDITIONS OF ANY KIND, either express or implied.\n",
              "// See the License for the specific language governing permissions and\n",
              "// limitations under the License.\n",
              "\n",
              "/**\n",
              " * @fileoverview Helpers for google.colab Python module.\n",
              " */\n",
              "(function(scope) {\n",
              "function span(text, styleAttributes = {}) {\n",
              "  const element = document.createElement('span');\n",
              "  element.textContent = text;\n",
              "  for (const key of Object.keys(styleAttributes)) {\n",
              "    element.style[key] = styleAttributes[key];\n",
              "  }\n",
              "  return element;\n",
              "}\n",
              "\n",
              "// Max number of bytes which will be uploaded at a time.\n",
              "const MAX_PAYLOAD_SIZE = 100 * 1024;\n",
              "\n",
              "function _uploadFiles(inputId, outputId) {\n",
              "  const steps = uploadFilesStep(inputId, outputId);\n",
              "  const outputElement = document.getElementById(outputId);\n",
              "  // Cache steps on the outputElement to make it available for the next call\n",
              "  // to uploadFilesContinue from Python.\n",
              "  outputElement.steps = steps;\n",
              "\n",
              "  return _uploadFilesContinue(outputId);\n",
              "}\n",
              "\n",
              "// This is roughly an async generator (not supported in the browser yet),\n",
              "// where there are multiple asynchronous steps and the Python side is going\n",
              "// to poll for completion of each step.\n",
              "// This uses a Promise to block the python side on completion of each step,\n",
              "// then passes the result of the previous step as the input to the next step.\n",
              "function _uploadFilesContinue(outputId) {\n",
              "  const outputElement = document.getElementById(outputId);\n",
              "  const steps = outputElement.steps;\n",
              "\n",
              "  const next = steps.next(outputElement.lastPromiseValue);\n",
              "  return Promise.resolve(next.value.promise).then((value) => {\n",
              "    // Cache the last promise value to make it available to the next\n",
              "    // step of the generator.\n",
              "    outputElement.lastPromiseValue = value;\n",
              "    return next.value.response;\n",
              "  });\n",
              "}\n",
              "\n",
              "/**\n",
              " * Generator function which is called between each async step of the upload\n",
              " * process.\n",
              " * @param {string} inputId Element ID of the input file picker element.\n",
              " * @param {string} outputId Element ID of the output display.\n",
              " * @return {!Iterable<!Object>} Iterable of next steps.\n",
              " */\n",
              "function* uploadFilesStep(inputId, outputId) {\n",
              "  const inputElement = document.getElementById(inputId);\n",
              "  inputElement.disabled = false;\n",
              "\n",
              "  const outputElement = document.getElementById(outputId);\n",
              "  outputElement.innerHTML = '';\n",
              "\n",
              "  const pickedPromise = new Promise((resolve) => {\n",
              "    inputElement.addEventListener('change', (e) => {\n",
              "      resolve(e.target.files);\n",
              "    });\n",
              "  });\n",
              "\n",
              "  const cancel = document.createElement('button');\n",
              "  inputElement.parentElement.appendChild(cancel);\n",
              "  cancel.textContent = 'Cancel upload';\n",
              "  const cancelPromise = new Promise((resolve) => {\n",
              "    cancel.onclick = () => {\n",
              "      resolve(null);\n",
              "    };\n",
              "  });\n",
              "\n",
              "  // Wait for the user to pick the files.\n",
              "  const files = yield {\n",
              "    promise: Promise.race([pickedPromise, cancelPromise]),\n",
              "    response: {\n",
              "      action: 'starting',\n",
              "    }\n",
              "  };\n",
              "\n",
              "  cancel.remove();\n",
              "\n",
              "  // Disable the input element since further picks are not allowed.\n",
              "  inputElement.disabled = true;\n",
              "\n",
              "  if (!files) {\n",
              "    return {\n",
              "      response: {\n",
              "        action: 'complete',\n",
              "      }\n",
              "    };\n",
              "  }\n",
              "\n",
              "  for (const file of files) {\n",
              "    const li = document.createElement('li');\n",
              "    li.append(span(file.name, {fontWeight: 'bold'}));\n",
              "    li.append(span(\n",
              "        `(${file.type || 'n/a'}) - ${file.size} bytes, ` +\n",
              "        `last modified: ${\n",
              "            file.lastModifiedDate ? file.lastModifiedDate.toLocaleDateString() :\n",
              "                                    'n/a'} - `));\n",
              "    const percent = span('0% done');\n",
              "    li.appendChild(percent);\n",
              "\n",
              "    outputElement.appendChild(li);\n",
              "\n",
              "    const fileDataPromise = new Promise((resolve) => {\n",
              "      const reader = new FileReader();\n",
              "      reader.onload = (e) => {\n",
              "        resolve(e.target.result);\n",
              "      };\n",
              "      reader.readAsArrayBuffer(file);\n",
              "    });\n",
              "    // Wait for the data to be ready.\n",
              "    let fileData = yield {\n",
              "      promise: fileDataPromise,\n",
              "      response: {\n",
              "        action: 'continue',\n",
              "      }\n",
              "    };\n",
              "\n",
              "    // Use a chunked sending to avoid message size limits. See b/62115660.\n",
              "    let position = 0;\n",
              "    do {\n",
              "      const length = Math.min(fileData.byteLength - position, MAX_PAYLOAD_SIZE);\n",
              "      const chunk = new Uint8Array(fileData, position, length);\n",
              "      position += length;\n",
              "\n",
              "      const base64 = btoa(String.fromCharCode.apply(null, chunk));\n",
              "      yield {\n",
              "        response: {\n",
              "          action: 'append',\n",
              "          file: file.name,\n",
              "          data: base64,\n",
              "        },\n",
              "      };\n",
              "\n",
              "      let percentDone = fileData.byteLength === 0 ?\n",
              "          100 :\n",
              "          Math.round((position / fileData.byteLength) * 100);\n",
              "      percent.textContent = `${percentDone}% done`;\n",
              "\n",
              "    } while (position < fileData.byteLength);\n",
              "  }\n",
              "\n",
              "  // All done.\n",
              "  yield {\n",
              "    response: {\n",
              "      action: 'complete',\n",
              "    }\n",
              "  };\n",
              "}\n",
              "\n",
              "scope.google = scope.google || {};\n",
              "scope.google.colab = scope.google.colab || {};\n",
              "scope.google.colab._files = {\n",
              "  _uploadFiles,\n",
              "  _uploadFilesContinue,\n",
              "};\n",
              "})(self);\n",
              "</script> "
            ]
          },
          "metadata": {}
        },
        {
          "output_type": "stream",
          "name": "stdout",
          "text": [
            "Saving short.txt to short (1).txt\n"
          ]
        }
      ]
    },
    {
      "cell_type": "code",
      "source": [
        "with open(\"short.txt\", \"r\", encoding=\"utf-8\") as f:\n",
        "    short_text = f.read()\n",
        "\n",
        "short_text"
      ],
      "metadata": {
        "colab": {
          "base_uri": "https://localhost:8080/",
          "height": 122
        },
        "id": "OdUoxBiXoBoY",
        "outputId": "e826436c-9728-496d-f39f-318401322d38"
      },
      "execution_count": 3,
      "outputs": [
        {
          "output_type": "execute_result",
          "data": {
            "text/plain": [
              "'Record ID,Machine ID,Date,Description,Status\\nR001,M08,2024-04-01,Routine inspection found no anomalies.,Pass\\nR002,M03,2024-08-06,Equipment checked and operating within normal parameters.,Pass\\nR003,M03,2024-12-18,Routine lubrication performed; all moving parts functional.,Pass\\nR004,M05,2025-02-17,System performance verified; all readings within acceptable limits.,Pass\\nR005,M09,2024-07-01,System performance verified; all readings within acceptable limits.,Pass\\nR006,M04,2024-07-19,System performance verified; all readings within acceptable limits.,Pass\\nR007,M08,2024-03-11,Hydraulic pressure levels consistent; system functioning correctly.,Pass\\nR008,M07,2024-11-28,Routine lubrication performed; all moving parts functional.,Pass\\nR009,M02,2024-02-04,\"Voltage and current levels stable, no electrical faults detected.\",Pass\\nR010,M06,2024-01-25,\"Voltage and current levels stable, no electrical faults detected.\",Pass\\nR011,M05,2024-07-23,Routine lubrication performed; all moving parts functional.,Pass\\nR012,M10,2024-10-13,Routine inspection found no anomalies.,Pass\\nR013,M02,2024-05-10,Conveyor belt tension verified; running as expected.,Pass\\nR014,M01,2024-06-14,Hydraulic pressure levels consistent; system functioning correctly.,Pass\\nR015,M05,2024-11-01,\"Voltage and current levels stable, no electrical faults detected.\",Pass\\nR016,M07,2024-11-30,No maintenance required; system running smoothly.,Pass\\nR017,M06,2024-06-19,Safety checks completed; no issues detected.,Pass\\nR018,M10,2024-06-18,Bearing noise levels checked; no excessive wear observed.,Pass\\nR019,M08,2024-01-28,Safety checks completed; no issues detected.,Pass\\nR020,M08,2024-09-24,Safety checks completed; no issues detected.,Pass\\nR021,M08,2024-10-22,System performance verified; all readings within acceptable limits.,Pass\\nR022,M03,2024-07-29,Equipment checked and operating within normal parameters.,Pass\\nR023,M08,2024-02-18,Conveyor belt tension verified; running as expected.,Pass\\nR024,M09,2024-11-19,Hydraulic pressure levels consistent; system functioning correctly.,Pass\\nR025,M09,2024-03-27,\"Voltage and current levels stable, no electrical faults detected.\",Pass\\nR026,M09,2024-04-24,\"Voltage and current levels stable, no electrical faults detected.\",Pass\\nR027,M10,2024-07-16,Hydraulic pressure levels consistent; system functioning correctly.,Pass\\nR028,M05,2025-01-12,Equipment checked and operating within normal parameters.,Pass\\nR029,M08,2025-01-27,Bearing noise levels checked; no excessive wear observed.,Pass\\nR030,M10,2024-04-13,No maintenance required; system running smoothly.,Pass\\nR031,M04,2024-05-28,Conveyor belt tension verified; running as expected.,Pass\\nR032,M06,2024-05-28,Bearing noise levels checked; no excessive wear observed.,Pass\\nR033,M04,2024-01-05,Conveyor belt tension verified; running as expected.,Pass\\nR034,M06,2024-01-25,Safety checks completed; no issues detected.,Pass\\nR035,M02,2024-01-11,\"Voltage and current levels stable, no electrical faults detected.\",Pass\\nR036,M06,2024-04-27,System performance verified; all readings within acceptable limits.,Pass\\nR037,M05,2024-05-27,Conveyor belt tension verified; running as expected.,Pass\\nR038,M02,2024-09-08,System performance verified; all readings within acceptable limits.,Pass\\nR039,M07,2024-05-02,Hydraulic pressure levels consistent; system functioning correctly.,Pass\\nR040,M08,2025-01-01,Routine lubrication performed; all moving parts functional.,Pass\\nR041,M08,2024-06-25,Bearing noise levels checked; no excessive wear observed.,Pass\\nR042,M10,2024-04-17,System performance verified; all readings within acceptable limits.,Pass\\nR043,M01,2024-03-25,Hydraulic pressure levels consistent; system functioning correctly.,Pass\\nR044,M07,2024-01-29,\"Voltage and current levels stable, no electrical faults detected.\",Pass\\nR045,M04,2024-10-30,Safety checks completed; no issues detected.,Pass\\nR046,M07,2024-09-05,Safety checks completed; no issues detected.,Pass\\nR047,M09,2024-12-28,Equipment checked and operating within normal parameters.,Pass\\nR048,M02,2024-10-05,\"Voltage and current levels stable, no electrical faults detected.\",Pass\\nR049,M09,2024-12-06,Conveyor belt tension verified; running as expected.,Pass\\nR050,M08,2024-04-10,Hydraulic pressure levels consistent; system functioning correctly.,Pass\\nR051,M10,2024-08-03,Bearing noise levels checked; no excessive wear observed.,Pass\\nR052,M07,2024-11-16,\"Voltage and current levels stable, no electrical faults detected.\",Pass\\nR053,M06,2024-10-18,Safety checks completed; no issues detected.,Pass\\nR054,M10,2024-10-24,Equipment checked and operating within normal parameters.,Pass\\nR055,M03,2024-05-19,\"Voltage and current levels stable, no electrical faults detected.\",Pass\\nR056,M05,2024-05-22,System performance verified; all readings within acceptable limits.,Pass\\nR057,M10,2024-12-28,\"Voltage and current levels stable, no electrical faults detected.\",Pass\\nR058,M10,2025-02-07,\"Voltage and current levels stable, no electrical faults detected.\",Pass\\nR059,M09,2024-01-04,Hydraulic pressure levels consistent; system functioning correctly.,Pass\\nR060,M09,2024-02-12,System performance verified; all readings within acceptable limits.,Pass\\nR061,M08,2024-09-28,Routine inspection found no anomalies.,Pass\\nR062,M01,2024-08-03,Bearing noise levels checked; no excessive wear observed.,Pass\\nR063,M05,2025-01-10,System performance verified; all readings within acceptable limits.,Pass\\nR064,M01,2024-11-14,Routine lubrication performed; all moving parts functional.,Pass\\nR065,M06,2024-07-16,Routine lubrication performed; all moving parts functional.,Pass\\nR066,M06,2024-09-02,Equipment checked and operating within normal parameters.,Pass\\nR067,M01,2024-10-30,Safety checks completed; no issues detected.,Pass\\nR068,M06,2024-10-23,Bearing noise levels checked; no excessive wear observed.,Pass\\nR069,M02,2024-11-12,Hydraulic pressure levels consistent; system functioning correctly.,Pass\\nR070,M02,2024-04-20,No maintenance required; system running smoothly.,Pass\\nR071,M07,2024-12-13,No maintenance required; system running smoothly.,Pass\\nR072,M05,2024-05-31,System performance verified; all readings within acceptable limits.,Pass\\nR073,M07,2024-12-17,Equipment checked and operating within normal parameters.,Pass\\nR074,M06,2024-03-27,Safety checks completed; no issues detected.,Pass\\nR075,M04,2024-11-03,Conveyor belt tension verified; running as expected.,Pass\\nR076,M08,2024-02-12,Routine inspection found no anomalies.,Pass\\nR077,M04,2024-05-06,Bearing noise levels checked; no excessive wear observed.,Pass\\nR078,M07,2024-12-30,\"Voltage and current levels stable, no electrical faults detected.\",Pass\\nR079,M05,2025-02-03,\"Voltage and current levels stable, no electrical faults detected.\",Pass\\nR080,M02,2024-03-15,Conveyor belt tension verified; running as expected.,Pass\\nR081,M06,2024-03-24,System performance verified; all readings within acceptable limits.,Pass\\nR082,M03,2025-02-01,Bearing noise levels checked; no excessive wear observed.,Pass\\nR083,M07,2024-04-24,Routine lubrication performed; all moving parts functional.,Pass\\nR084,M03,2024-02-23,System performance verified; all readings within acceptable limits.,Pass\\nR085,M05,2024-05-12,System performance verified; all readings within acceptable limits.,Pass\\nR086,M05,2024-09-16,System performance verified; all readings within acceptable limits.,Pass\\nR087,M10,2025-01-04,Hydraulic pressure levels consistent; system functioning correctly.,Pass\\nR088,M08,2024-06-03,System performance verified; all readings within acceptable limits.,Pass\\nR089,M02,2024-09-26,Bearing noise levels checked; no excessive wear observed.,Pass\\nR090,M10,2024-04-26,Bearing noise levels checked; no excessive wear observed.,Pass\\nR091,M08,2024-12-13,Gearbox realigned after detecting vibration anomalies.,Completed\\nR092,M05,2024-06-06,Air filter replaced after detecting reduced airflow efficiency.,Completed\\nR093,M07,2025-01-22,Faulty relay switch replaced after intermittent failures observed.,Completed\\nR094,M03,2024-01-27,Pump seals replaced to resolve a detected minor leak.,Completed\\nR095,M03,2025-02-05,System recalibrated following minor deviations in sensor readings.,Completed\\nR096,M01,2024-02-20,Faulty relay switch replaced after intermittent failures observed.,Completed\\nR097,M10,2024-11-01,Air filter replaced after detecting reduced airflow efficiency.,Completed\\nR098,M04,2024-09-08,Technicians replaced a worn-out belt to prevent further degradation.,Completed\\nR099,M08,2024-07-16,System recalibrated following minor deviations in sensor readings.,Completed\\nR100,M06,2024-09-01,Technicians replaced a worn-out belt to prevent further degradation.,Completed\\n'"
            ],
            "application/vnd.google.colaboratory.intrinsic+json": {
              "type": "string"
            }
          },
          "metadata": {},
          "execution_count": 3
        }
      ]
    },
    {
      "cell_type": "code",
      "source": [
        "class Route(BaseModel):\n",
        "    step: Literal[\"slope_calculation\", \"threshold_exceedance\", \"separate\", \"text_analysis\"] = Field(...)"
      ],
      "metadata": {
        "id": "iRaSjwaYosa9"
      },
      "execution_count": 4,
      "outputs": []
    },
    {
      "cell_type": "code",
      "source": [
        "def router_model(user_msg: str) -> str:\n",
        "    prompt = f\"\"\"\n",
        "You're a routing controller. Categorize the input into ONE of the following:\n",
        "- slope_calculation\n",
        "- threshold_exceedance\n",
        "- separate\n",
        "- text_analysis\n",
        "\n",
        "Only return the keyword. Do not explain.\n",
        "\n",
        "Input: {user_msg}\n",
        "\"\"\"\n",
        "    response = client.chat.completions.create(\n",
        "        model=\"deepseek-reasoner\",\n",
        "        messages=[\n",
        "            {\"role\": \"system\", \"content\": \"You are a strict intent classifier.\"},\n",
        "            {\"role\": \"user\", \"content\": prompt}\n",
        "        ],\n",
        "        stream=False\n",
        "    )\n",
        "    return response.choices[0].message.content.strip().lower()\n",
        "\n",
        "def supervisor_node(state: MessagesState) -> Command:\n",
        "    user_msg = state[\"messages\"][-1].content\n",
        "    step = router_model(user_msg)\n",
        "    return Command(update={\"messages\": state[\"messages\"]}, goto=step)"
      ],
      "metadata": {
        "id": "AN1fTJ8h71yr"
      },
      "execution_count": 5,
      "outputs": []
    },
    {
      "cell_type": "code",
      "source": [
        "def text_analysis_node(state: MessagesState) -> Command:\n",
        "    system_prompt = \"You are a maintenance report analyst. Your job is to classify maintenance logs provided in natural language.\"\n",
        "\n",
        "    user_prompt = f\"\"\"\n",
        "You are asked to classify each maintenance record as either pass or completed based on the description.\n",
        "A pass record means that there is no issue for the machine and thus no maintenance required.\n",
        "On the other hand, a completed record means there are anomalies or issues for the machine and thus maintenance is required.\n",
        "Please only output the classification results. Do not explain.\n",
        "\n",
        "---\n",
        "{short_text}\n",
        "\"\"\"\n",
        "\n",
        "    response = client.chat.completions.create(\n",
        "        model=\"deepseek-reasoner\",\n",
        "        messages=[\n",
        "            {\"role\": \"system\", \"content\": system_prompt},\n",
        "            {\"role\": \"user\", \"content\": user_prompt}\n",
        "        ],\n",
        "        stream=False\n",
        "    )\n",
        "\n",
        "    output = response.choices[0].message.content\n",
        "\n",
        "    return Command(\n",
        "        update={\"messages\": state[\"messages\"] + [AIMessage(content=output)]},\n",
        "        goto=\"end\"\n",
        "    )"
      ],
      "metadata": {
        "id": "4VUgjgkQo1Vk"
      },
      "execution_count": 13,
      "outputs": []
    },
    {
      "cell_type": "code",
      "source": [
        "def slope_agent_node(state: MessagesState) -> Command:\n",
        "    return Command(update={\"messages\": state[\"messages\"] + [AIMessage(content=\"[Slope] Slope calculation executed.\")]}, goto=\"end\")\n",
        "\n",
        "def threshold_agent_node(state: MessagesState) -> Command:\n",
        "    return Command(update={\"messages\": state[\"messages\"] + [AIMessage(content=\"[Threshold] Threshold analysis executed.\")]}, goto=\"end\")\n",
        "\n",
        "def separate_node(state: MessagesState) -> Command:\n",
        "    return Command(update={\"messages\": state[\"messages\"] + [AIMessage(content=\"[Separate] Prompts split handled.\")]}, goto=\"end\")"
      ],
      "metadata": {
        "id": "J7CGXtVR8z2I"
      },
      "execution_count": 7,
      "outputs": []
    },
    {
      "cell_type": "code",
      "source": [
        "builder = StateGraph(MessagesState)\n",
        "\n",
        "builder.add_node(\"supervisor\", supervisor_node)\n",
        "builder.add_node(\"slope_calculation\", slope_agent_node)\n",
        "builder.add_node(\"threshold_exceedance\", threshold_agent_node)\n",
        "builder.add_node(\"separate\", separate_node)\n",
        "builder.add_node(\"text_analysis\", text_analysis_node)\n",
        "\n",
        "builder.set_entry_point(\"supervisor\")\n",
        "builder.add_edge(\"slope_calculation\", END)\n",
        "builder.add_edge(\"threshold_exceedance\", END)\n",
        "builder.add_edge(\"separate\", END)\n",
        "builder.add_edge(\"text_analysis\", END)\n",
        "\n",
        "graph = builder.compile()"
      ],
      "metadata": {
        "id": "fjc05PH4pB9n"
      },
      "execution_count": 8,
      "outputs": []
    },
    {
      "cell_type": "code",
      "source": [
        "from langchain_core.messages import HumanMessage\n",
        "\n",
        "test_prompt = \"Please classify the uploaded maintenance log for me.\"\n",
        "step = router_model(test_prompt)\n",
        "initial_state = {\n",
        "    \"messages\": [HumanMessage(content=test_prompt)]\n",
        "}\n",
        "\n",
        "print(\"Streaming begins...\\n\")\n",
        "result = graph.invoke(initial_state)\n",
        "print(\"Final Answer:\\n\")\n",
        "print(result[\"messages\"][-1].content)"
      ],
      "metadata": {
        "colab": {
          "base_uri": "https://localhost:8080/"
        },
        "id": "Rm4GTFMP9unb",
        "outputId": "691c7b0f-6829-4943-eb2a-e607520cc7a2"
      },
      "execution_count": 14,
      "outputs": [
        {
          "output_type": "stream",
          "name": "stdout",
          "text": [
            "Streaming begins...\n",
            "\n",
            "Final Answer:\n",
            "\n",
            "**Maintenance Log Summary**\n",
            "\n",
            "**Overview:**  \n",
            "- **Total Entries:** 100 (90 \"Pass\" routine checks, 10 \"Completed\" corrective actions).  \n",
            "- **Machines Covered:** M01 to M10.  \n",
            "- **Timeframe:** January 2024 – February 2025.  \n",
            "\n",
            "---\n",
            "\n",
            "### **Routine Maintenance (Pass Status)**  \n",
            "1. **Common Tasks:**  \n",
            "   - **Inspections:** Routine checks found no anomalies (e.g., R001, R012).  \n",
            "   - **Lubrication:** Moving parts maintained (e.g., R003, R040).  \n",
            "   - **Performance Verification:** Systems operating within acceptable limits (e.g., R004, R088).  \n",
            "   - **Electrical Checks:** Stable voltage/current levels (e.g., R009, R057).  \n",
            "   - **Hydraulic Systems:** Pressure levels consistent (e.g., R007, R050).  \n",
            "   - **Conveyor Belts:** Tension verified (e.g., R013, R075).  \n",
            "   - **Bearing Checks:** Noise levels monitored (e.g., R018, R090).  \n",
            "   - **Safety Checks:** No issues detected (e.g., R019, R067).  \n",
            "\n",
            "2. **Frequency:**  \n",
            "   - Regular checks across all machines, with frequent focus on M05, M08, and M10.  \n",
            "\n",
            "---\n",
            "\n",
            "### **Corrective Actions (Completed Status)**  \n",
            "1. **Key Repairs:**  \n",
            "   - **Component Replacements:**  \n",
            "     - Air filters (R092, R097), relay switches (R093, R096), belts (R098, R100), pump seals (R094).  \n",
            "   - **System Adjustments:**  \n",
            "     - Gearbox realignment (R091), sensor recalibration (R095, R099).  \n",
            "\n",
            "2. **Machines Addressed:**  \n",
            "   - M03 (pump leak, recalibration), M08 (gearbox vibration), M10 (air filter), M05 (airflow), M07 (relay), and others.  \n",
            "\n",
            "---\n",
            "\n",
            "### **Key Takeaways**  \n",
            "- **Proactive Maintenance:** Majority of logs (90%) confirmed systems operating optimally.  \n",
            "- **Issue Resolution:** All detected anomalies (10%) were promptly resolved (e.g., leaks, wear, sensor deviations).  \n",
            "- **No Recurring Failures:** No unresolved or pending issues reported.  \n",
            "\n",
            "This log reflects a robust preventive maintenance program with timely corrective actions to ensure operational reliability.\n"
          ]
        }
      ]
    }
  ]
}
